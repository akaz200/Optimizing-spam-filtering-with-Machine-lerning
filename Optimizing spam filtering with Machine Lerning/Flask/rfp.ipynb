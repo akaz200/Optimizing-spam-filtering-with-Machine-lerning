import pickle
import sys  
sys.path.insert(0, '../../SMSSpamClassifier/entity/')
sms_classifier = None
from typing import List
import re
from nltk.stem import PorterStemmer
with open('smsspamclassifer.pkl','rb') as pickle_reader:
    sms_classifier = pickle.load(pickle_reader)
c:\Users\Murugavel Dev\AppData\Local\Programs\Python\Python310\lib\site-packages\sklearn\base.py:318: UserWarning: Trying to unpickle estimator CountVectorizer from version 1.0.1 when using version 1.2.2. This might lead to breaking code or invalid results. Use at your own risk. For more info please refer to:
https://scikit-learn.org/stable/model_persistence.html#security-maintainability-limitations
  warnings.warn(
c:\Users\Murugavel Dev\AppData\Local\Programs\Python\Python310\lib\site-packages\sklearn\base.py:318: UserWarning: Trying to unpickle estimator DecisionTreeClassifier from version 1.0.1 when using version 1.2.2. This might lead to breaking code or invalid results. Use at your own risk. For more info please refer to:
https://scikit-learn.org/stable/model_persistence.html#security-maintainability-limitations
  warnings.warn(
c:\Users\Murugavel Dev\AppData\Local\Programs\Python\Python310\lib\site-packages\sklearn\base.py:318: UserWarning: Trying to unpickle estimator RandomForestClassifier from version 1.0.1 when using version 1.2.2. This might lead to breaking code or invalid results. Use at your own risk. For more info please refer to:
https://scikit-learn.org/stable/model_persistence.html#security-maintainability-limitations
  warnings.warn(

value = sms_classifier.predict("WINNER!! As a valued network customer you have been selected to receivea ?900 prize reward! To claim call 09061701461. Claim code KL341. Valid 12 hours only")
['inner!! valu network custom select receivea ?900 prize reward! claim call 09061701461. claim code kl341. valid 12 hour']
value
array([1], dtype=uint8)
 